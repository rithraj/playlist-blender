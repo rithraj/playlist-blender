{
 "cells": [
  {
   "cell_type": "code",
   "execution_count": 150,
   "metadata": {},
   "outputs": [],
   "source": [
    "import pandas as pd\n",
    "from matplotlib import pyplot as plt\n",
    "import numpy as np\n",
    "from sklearn.preprocessing import StandardScaler  # to standardize the features\n",
    "from sklearn.decomposition import PCA\n",
    "from sklearn.model_selection import train_test_split\n",
    "from sklearn.ensemble import RandomForestClassifier\n",
    "from sklearn.metrics import accuracy_score\n",
    "import seaborn as sns  # to plot the heat maps"
   ]
  },
  {
   "cell_type": "code",
   "execution_count": 151,
   "metadata": {},
   "outputs": [],
   "source": [
    "# drop the filename column\n",
    "x = pd.read_csv(\"final_audio_data.csv\")\n",
    "x.drop(['index', 'Artist Name', 'Artist_id', 'Track Name', 'Track ID'], axis=1, inplace=True)\n",
    "# drop and save the labels of each entry\n",
    "y = x.pop('Genre')"
   ]
  },
  {
   "cell_type": "code",
   "execution_count": 152,
   "metadata": {},
   "outputs": [],
   "source": [
    "x_train, x_test, y_train, y_test = train_test_split(x, y, test_size=0.2)"
   ]
  },
  {
   "cell_type": "code",
   "execution_count": 153,
   "metadata": {},
   "outputs": [],
   "source": [
    "scalar = StandardScaler()\n",
    "x_train = pd.DataFrame(scalar.fit_transform(x_train), columns=x_train.columns)\n",
    "x_test = pd.DataFrame(scalar.transform(x_test), columns=x_test.columns)"
   ]
  },
  {
   "cell_type": "code",
   "execution_count": 154,
   "metadata": {},
   "outputs": [
    {
     "data": {
      "text/plain": [
       "<AxesSubplot:>"
      ]
     },
     "execution_count": 154,
     "metadata": {},
     "output_type": "execute_result"
    },
    {
     "data": {
      "image/png": "[encoded data removed]",
      "text/plain": [
       "<Figure size 432x288 with 2 Axes>"
      ]
     },
     "metadata": {
      "needs_background": "light"
     },
     "output_type": "display_data"
    }
   ],
   "source": [
    "sns.heatmap(x_train.corr())"
   ]
  },
  {
   "cell_type": "code",
   "execution_count": 155,
   "metadata": {},
   "outputs": [
    {
     "name": "stdout",
     "output_type": "stream",
     "text": [
      "shape before feature reduction: (4624, 14)\n",
      "shape after feature reduction: (4624, 13)\n"
     ]
    },
    {
     "data": {
      "text/html": [
       "<div>\n",
       "<style scoped>\n",
       "    .dataframe tbody tr th:only-of-type {\n",
       "        vertical-align: middle;\n",
       "    }\n",
       "\n",
       "    .dataframe tbody tr th {\n",
       "        vertical-align: top;\n",
       "    }\n",
       "\n",
       "    .dataframe thead th {\n",
       "        text-align: right;\n",
       "    }\n",
       "</style>\n",
       "<table border=\"1\" class=\"dataframe\">\n",
       "  <thead>\n",
       "    <tr style=\"text-align: right;\">\n",
       "      <th></th>\n",
       "      <th>0</th>\n",
       "      <th>1</th>\n",
       "      <th>2</th>\n",
       "      <th>3</th>\n",
       "      <th>4</th>\n",
       "      <th>5</th>\n",
       "      <th>6</th>\n",
       "      <th>7</th>\n",
       "      <th>8</th>\n",
       "      <th>9</th>\n",
       "      <th>10</th>\n",
       "      <th>11</th>\n",
       "      <th>12</th>\n",
       "    </tr>\n",
       "  </thead>\n",
       "  <tbody>\n",
       "    <tr>\n",
       "      <th>0</th>\n",
       "      <td>0.839704</td>\n",
       "      <td>-0.034177</td>\n",
       "      <td>0.578113</td>\n",
       "      <td>-0.348754</td>\n",
       "      <td>0.600375</td>\n",
       "      <td>1.300315</td>\n",
       "      <td>0.052195</td>\n",
       "      <td>-0.907703</td>\n",
       "      <td>-1.545450</td>\n",
       "      <td>0.335545</td>\n",
       "      <td>-0.212835</td>\n",
       "      <td>-0.931936</td>\n",
       "      <td>0.065228</td>\n",
       "    </tr>\n",
       "    <tr>\n",
       "      <th>1</th>\n",
       "      <td>-1.046442</td>\n",
       "      <td>-0.178014</td>\n",
       "      <td>1.539333</td>\n",
       "      <td>0.289593</td>\n",
       "      <td>0.041940</td>\n",
       "      <td>0.628563</td>\n",
       "      <td>0.180425</td>\n",
       "      <td>-0.213943</td>\n",
       "      <td>0.260795</td>\n",
       "      <td>-0.512418</td>\n",
       "      <td>0.370483</td>\n",
       "      <td>-0.465327</td>\n",
       "      <td>0.517099</td>\n",
       "    </tr>\n",
       "    <tr>\n",
       "      <th>2</th>\n",
       "      <td>-1.945988</td>\n",
       "      <td>1.141903</td>\n",
       "      <td>-0.671065</td>\n",
       "      <td>0.810075</td>\n",
       "      <td>1.211270</td>\n",
       "      <td>-0.677533</td>\n",
       "      <td>-0.283111</td>\n",
       "      <td>1.785394</td>\n",
       "      <td>-0.837178</td>\n",
       "      <td>-0.230765</td>\n",
       "      <td>0.148667</td>\n",
       "      <td>0.109175</td>\n",
       "      <td>0.252942</td>\n",
       "    </tr>\n",
       "    <tr>\n",
       "      <th>3</th>\n",
       "      <td>2.917373</td>\n",
       "      <td>1.050744</td>\n",
       "      <td>-0.656930</td>\n",
       "      <td>-0.871876</td>\n",
       "      <td>-0.016283</td>\n",
       "      <td>0.300110</td>\n",
       "      <td>0.118485</td>\n",
       "      <td>-1.653063</td>\n",
       "      <td>-1.107607</td>\n",
       "      <td>-0.528757</td>\n",
       "      <td>0.931108</td>\n",
       "      <td>0.471011</td>\n",
       "      <td>-0.931933</td>\n",
       "    </tr>\n",
       "    <tr>\n",
       "      <th>4</th>\n",
       "      <td>-2.151486</td>\n",
       "      <td>0.300016</td>\n",
       "      <td>0.404660</td>\n",
       "      <td>-0.524631</td>\n",
       "      <td>0.730514</td>\n",
       "      <td>0.939605</td>\n",
       "      <td>0.213984</td>\n",
       "      <td>0.362246</td>\n",
       "      <td>-0.717829</td>\n",
       "      <td>0.431843</td>\n",
       "      <td>0.737657</td>\n",
       "      <td>-0.139219</td>\n",
       "      <td>0.503810</td>\n",
       "    </tr>\n",
       "    <tr>\n",
       "      <th>...</th>\n",
       "      <td>...</td>\n",
       "      <td>...</td>\n",
       "      <td>...</td>\n",
       "      <td>...</td>\n",
       "      <td>...</td>\n",
       "      <td>...</td>\n",
       "      <td>...</td>\n",
       "      <td>...</td>\n",
       "      <td>...</td>\n",
       "      <td>...</td>\n",
       "      <td>...</td>\n",
       "      <td>...</td>\n",
       "      <td>...</td>\n",
       "    </tr>\n",
       "    <tr>\n",
       "      <th>4619</th>\n",
       "      <td>1.012917</td>\n",
       "      <td>-0.593354</td>\n",
       "      <td>0.411299</td>\n",
       "      <td>0.278106</td>\n",
       "      <td>-0.597135</td>\n",
       "      <td>-0.739999</td>\n",
       "      <td>0.163840</td>\n",
       "      <td>0.491510</td>\n",
       "      <td>0.872626</td>\n",
       "      <td>-1.068483</td>\n",
       "      <td>-0.402818</td>\n",
       "      <td>-1.157021</td>\n",
       "      <td>0.889307</td>\n",
       "    </tr>\n",
       "    <tr>\n",
       "      <th>4620</th>\n",
       "      <td>0.514908</td>\n",
       "      <td>-1.330335</td>\n",
       "      <td>-1.548487</td>\n",
       "      <td>0.774338</td>\n",
       "      <td>1.744684</td>\n",
       "      <td>0.203678</td>\n",
       "      <td>-1.485393</td>\n",
       "      <td>-0.788867</td>\n",
       "      <td>-1.129383</td>\n",
       "      <td>0.142858</td>\n",
       "      <td>-1.744076</td>\n",
       "      <td>-0.128142</td>\n",
       "      <td>-0.309606</td>\n",
       "    </tr>\n",
       "    <tr>\n",
       "      <th>4621</th>\n",
       "      <td>-1.015405</td>\n",
       "      <td>1.937889</td>\n",
       "      <td>0.580775</td>\n",
       "      <td>0.094669</td>\n",
       "      <td>0.964927</td>\n",
       "      <td>-1.267680</td>\n",
       "      <td>-1.032084</td>\n",
       "      <td>0.336952</td>\n",
       "      <td>-0.723340</td>\n",
       "      <td>1.220973</td>\n",
       "      <td>0.683723</td>\n",
       "      <td>-0.091504</td>\n",
       "      <td>0.464921</td>\n",
       "    </tr>\n",
       "    <tr>\n",
       "      <th>4622</th>\n",
       "      <td>-0.820296</td>\n",
       "      <td>-0.026025</td>\n",
       "      <td>1.729401</td>\n",
       "      <td>-0.200156</td>\n",
       "      <td>-0.725471</td>\n",
       "      <td>0.055476</td>\n",
       "      <td>0.388979</td>\n",
       "      <td>-0.070161</td>\n",
       "      <td>0.730765</td>\n",
       "      <td>-0.331268</td>\n",
       "      <td>0.175325</td>\n",
       "      <td>-1.605200</td>\n",
       "      <td>-0.213377</td>\n",
       "    </tr>\n",
       "    <tr>\n",
       "      <th>4623</th>\n",
       "      <td>-1.248664</td>\n",
       "      <td>-0.700378</td>\n",
       "      <td>-0.244311</td>\n",
       "      <td>1.091829</td>\n",
       "      <td>-0.399845</td>\n",
       "      <td>-0.201992</td>\n",
       "      <td>-0.476036</td>\n",
       "      <td>-1.172026</td>\n",
       "      <td>0.582733</td>\n",
       "      <td>-0.020620</td>\n",
       "      <td>0.440578</td>\n",
       "      <td>0.169861</td>\n",
       "      <td>0.551202</td>\n",
       "    </tr>\n",
       "  </tbody>\n",
       "</table>\n",
       "<p>4624 rows × 13 columns</p>\n",
       "</div>"
      ],
      "text/plain": [
       "            0         1         2         3         4         5         6   \\\n",
       "0     0.839704 -0.034177  0.578113 -0.348754  0.600375  1.300315  0.052195   \n",
       "1    -1.046442 -0.178014  1.539333  0.289593  0.041940  0.628563  0.180425   \n",
       "2    -1.945988  1.141903 -0.671065  0.810075  1.211270 -0.677533 -0.283111   \n",
       "3     2.917373  1.050744 -0.656930 -0.871876 -0.016283  0.300110  0.118485   \n",
       "4    -2.151486  0.300016  0.404660 -0.524631  0.730514  0.939605  0.213984   \n",
       "...        ...       ...       ...       ...       ...       ...       ...   \n",
       "4619  1.012917 -0.593354  0.411299  0.278106 -0.597135 -0.739999  0.163840   \n",
       "4620  0.514908 -1.330335 -1.548487  0.774338  1.744684  0.203678 -1.485393   \n",
       "4621 -1.015405  1.937889  0.580775  0.094669  0.964927 -1.267680 -1.032084   \n",
       "4622 -0.820296 -0.026025  1.729401 -0.200156 -0.725471  0.055476  0.388979   \n",
       "4623 -1.248664 -0.700378 -0.244311  1.091829 -0.399845 -0.201992 -0.476036   \n",
       "\n",
       "            7         8         9         10        11        12  \n",
       "0    -0.907703 -1.545450  0.335545 -0.212835 -0.931936  0.065228  \n",
       "1    -0.213943  0.260795 -0.512418  0.370483 -0.465327  0.517099  \n",
       "2     1.785394 -0.837178 -0.230765  0.148667  0.109175  0.252942  \n",
       "3    -1.653063 -1.107607 -0.528757  0.931108  0.471011 -0.931933  \n",
       "4     0.362246 -0.717829  0.431843  0.737657 -0.139219  0.503810  \n",
       "...        ...       ...       ...       ...       ...       ...  \n",
       "4619  0.491510  0.872626 -1.068483 -0.402818 -1.157021  0.889307  \n",
       "4620 -0.788867 -1.129383  0.142858 -1.744076 -0.128142 -0.309606  \n",
       "4621  0.336952 -0.723340  1.220973  0.683723 -0.091504  0.464921  \n",
       "4622 -0.070161  0.730765 -0.331268  0.175325 -1.605200 -0.213377  \n",
       "4623 -1.172026  0.582733 -0.020620  0.440578  0.169861  0.551202  \n",
       "\n",
       "[4624 rows x 13 columns]"
      ]
     },
     "execution_count": 155,
     "metadata": {},
     "output_type": "execute_result"
    }
   ],
   "source": [
    "print(f\"shape before feature reduction: {x_train.shape}\")\n",
    "pca = PCA(13)\n",
    "\n",
    "x_train = pd.DataFrame(pca.fit_transform(x_train))\n",
    "x_test = pd.DataFrame(pca.transform(x_test))\n",
    "print(f\"shape after feature reduction: {x_train.shape}\")\n",
    "x_train"
   ]
  },
  {
   "cell_type": "code",
   "execution_count": 156,
   "metadata": {},
   "outputs": [
    {
     "data": {
      "text/plain": [
       "<AxesSubplot:>"
      ]
     },
     "execution_count": 156,
     "metadata": {},
     "output_type": "execute_result"
    },
    {
     "data": {
      "image/png": "[encoded data removed]",
      "text/plain": [
       "<Figure size 432x288 with 2 Axes>"
      ]
     },
     "metadata": {
      "needs_background": "light"
     },
     "output_type": "display_data"
    }
   ],
   "source": [
    "sns.heatmap(x_train.corr())"
   ]
  },
  {
   "cell_type": "code",
   "execution_count": 160,
   "metadata": {},
   "outputs": [
    {
     "name": "stdout",
     "output_type": "stream",
     "text": [
      "Accuraccy: 0.5280898876404494\n"
     ]
    }
   ],
   "source": [
    "classfier = RandomForestClassifier()\n",
    "classfier.fit(x_train, y_train)\n",
    "\n",
    "y_pred = classfier.predict(x_test)\n",
    "print(f\"Accuraccy: {accuracy_score(y_test, y_pred)}\")"
   ]
  }
 ],
 "metadata": {
  "kernelspec": {
   "display_name": "Python 3.8.8 ('base')",
   "language": "python",
   "name": "python3"
  },
  "language_info": {
   "codemirror_mode": {
    "name": "ipython",
    "version": 3
   },
   "file_extension": ".py",
   "mimetype": "text/x-python",
   "name": "python",
   "nbconvert_exporter": "python",
   "pygments_lexer": "ipython3",
   "version": "3.8.8"
  },
  "orig_nbformat": 4,
  "vscode": {
   "interpreter": {
    "hash": "ca42fec0569acb581a7c75c7d60dd4087caf7831f0bf49e483949cf7323f15d3"
   }
  }
 },
 "nbformat": 4,
 "nbformat_minor": 2
}
