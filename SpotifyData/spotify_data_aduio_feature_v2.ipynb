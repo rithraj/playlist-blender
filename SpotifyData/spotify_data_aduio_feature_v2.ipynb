{
 "cells": [
  {
   "cell_type": "code",
   "execution_count": 1,
   "metadata": {},
   "outputs": [],
   "source": [
    "# The code is coming from https://github.com/eric-ruzzo/spotify_popularity_analysis/blob/master/api_analysis.ipynb\n",
    "# We apply some changes to retrieve all the features we want for Goergia Tech CS4641 Class Project"
   ]
  },
  {
   "cell_type": "code",
   "execution_count": 1,
   "metadata": {},
   "outputs": [],
   "source": [
    "# Import dependencies\n",
    "# spotipy is a library with methods that call the Spotify API\n",
    "\n",
    "import pandas as pd\n",
    "from matplotlib import pyplot as plt\n",
    "import numpy as np\n",
    "import spotipy\n",
    "from spotipy.oauth2 import SpotifyClientCredentials\n",
    "# from config import client_id, secret, sql_pw"
   ]
  },
  {
   "cell_type": "code",
   "execution_count": 3,
   "metadata": {},
   "outputs": [],
   "source": [
    "# Establish connection to Spotify\n",
    "# client_id = '46cd1adb58534beeaef6b9db30e96bd4'\n",
    "# secret = '90fd676b2c4b4c738a2e4e2ce362eab8'\n",
    "client_id = 'f92d01e95bd34076bd62d218ce2672ec'\n",
    "secret = 'e00ad4916a11498e9887a60a9b8e6eb4'\n",
    "\n",
    "client_credentials_manager = SpotifyClientCredentials(client_id=client_id, client_secret=secret)\n",
    "sp = spotipy.Spotify(client_credentials_manager=client_credentials_manager)"
   ]
  },
  {
   "cell_type": "code",
   "execution_count": 4,
   "metadata": {},
   "outputs": [],
   "source": [
    "# Create empty lists to store data from API calls\n",
    "\n",
    "artist_name = []\n",
    "track_name = []\n",
    "track_id = []\n",
    "popularity = []\n",
    "artist_id = []\n",
    "\n",
    "# 2020, 2011, 2012, 2013, 2014, 2015, 2016, 2017, 2018, 2019, 2020, 2021\n",
    "\n",
    "# Run a for loop to call the API multiple times for a list of tracks\n",
    "# Starter code from a similar project:\n",
    "# https://tgel0.github.io/blog/spotify-data-project-part-1-from-data-retrieval-to-first-insights/\n",
    "\n",
    "# i represents each call of the Spotify search API, range is maximum results, step 50 represents 50 results per search\n",
    "for i in range(0, 1000, 50):\n",
    "\n",
    "    # Save results of each search as a variable. Limit search to 50 results, use offset to skip previous result of iteration\n",
    "    \n",
    "    track_results = sp.search(q='year:2011', type='track', limit=50, offset=i)\n",
    "        \n",
    "    \n",
    "    # Loop through each result to find values for selected fields\n",
    "    # Enumerate creates a tuple of each track result for iteration. Example: (0, J. Cole), (1, Ariana Grande), etc.\n",
    "    for i, t in enumerate(track_results['tracks']['items']):\n",
    "        \n",
    "        artist_id.append(t['artists'][0]['id'])\n",
    "        artist_name.append(t['artists'][0]['name'])\n",
    "        track_name.append(t['name'])\n",
    "        track_id.append(t['id'])\n",
    "        \n",
    "        popularity.append(t['popularity'])\n",
    "        \n",
    "        "
   ]
  },
  {
   "cell_type": "code",
   "execution_count": 5,
   "metadata": {},
   "outputs": [],
   "source": [
    "# sp.artist('7bXgB6jMjp9ATFy66eO08Z') # test one"
   ]
  },
  {
   "cell_type": "code",
   "execution_count": null,
   "metadata": {
    "collapsed": true,
    "jupyter": {
     "outputs_hidden": true
    }
   },
   "outputs": [],
   "source": [
    "artist_id_genre = []   \n",
    "# Create empty list for genre of each artist\n",
    "genres = []\n",
    "\n",
    "\n",
    "# Loop through artist id list, calling API for each artist id\n",
    "for artist in range(0,1000):\n",
    "    \n",
    "    \n",
    "\n",
    "    artist_id_genre.append(artist_id[artist])\n",
    "    \n",
    "    # sp.artist calls Spotify API using spotipy library to find artist\n",
    "    artist_results = sp.artist(artist_id[artist])\n",
    "    \n",
    "    # Append list of genres from results to genres list\n",
    "    genres.append(artist_results[\"genres\"])"
   ]
  },
  {
   "cell_type": "code",
   "execution_count": null,
   "metadata": {},
   "outputs": [],
   "source": [
    "# Create empty lists to store audio feature values\n",
    "\n",
    "# Genre, artist_name, track_name, track_id, popularity, \n",
    "# acousticness, danceability, duration_ms, energy, instrumentalness, key, \n",
    "# liveness, loudness, mode, speechiness, tempo, time_signature, valence\n",
    "\n",
    "acousticness = []\n",
    "danceability = []\n",
    "duration_ms = []\n",
    "energy = []\n",
    "instrumentalness = []\n",
    "key = []\n",
    "liveness = []\n",
    "loudness = []\n",
    "mode = []\n",
    "speechiness = []\n",
    "tempo = []\n",
    "time_signature = []\n",
    "valence = []\n",
    "\n",
    "\n",
    "# Loop through track id list to find audio features for each track\n",
    "for track in range(0, 1000):\n",
    "    \n",
    "    # Append selected values to corresponding lists\n",
    "    try:\n",
    "        audio_features = sp.audio_features(track_id[track])\n",
    "        \n",
    "        acousticness.append(audio_features[0][\"acousticness\"])\n",
    "        danceability.append(audio_features[0][\"danceability\"])\n",
    "        duration_ms.append(audio_features[0][\"duration_ms\"])\n",
    "        energy.append(audio_features[0][\"energy\"])\n",
    "        instrumentalness.append(audio_features[0][\"instrumentalness\"])\n",
    "        key.append(audio_features[0][\"key\"])\n",
    "        liveness.append(audio_features[0][\"liveness\"])\n",
    "        mode.append(audio_features[0][\"mode\"])\n",
    "        loudness.append(audio_features[0][\"loudness\"])\n",
    "        tempo.append(audio_features[0][\"tempo\"])\n",
    "        time_signature.append(audio_features[0][\"time_signature\"])\n",
    "        speechiness.append(audio_features[0][\"speechiness\"])\n",
    "        valence.append(audio_features[0][\"valence\"])\n",
    "        \n",
    "        \n",
    "    \n",
    "    # Error results if there are no features available. Use try/except to set value to 0 when there is an error\n",
    "    except TypeError:\n",
    "        acousticness.append(0)\n",
    "        danceability.append(0)\n",
    "        duration_ms.append(0)\n",
    "        energy.append(0)\n",
    "        instrumentalness.append(0)\n",
    "        key.append(0)\n",
    "        liveness.append(0)\n",
    "        mode.append(0)\n",
    "        loudness.append(0)\n",
    "        tempo.append(0)\n",
    "        time_signature.append(0)\n",
    "        speechiness.append(0)\n",
    "        valence.append(0)\n",
    "        "
   ]
  },
  {
   "cell_type": "code",
   "execution_count": null,
   "metadata": {},
   "outputs": [],
   "source": [
    "features_df = pd.DataFrame({ \"Artist Name\": artist_name, \n",
    "                            \"Artist_id\": artist_id,\n",
    "                            \"Track Name\":track_name, \n",
    "                            \"Track ID\": track_id,\n",
    "                            \"Popularity\": popularity, \n",
    "                            \n",
    "                            \"acousticness\": acousticness, \n",
    "                            \"Danceability\":danceability, \n",
    "                            \"Duration_ms\": duration_ms, \n",
    "                            \"Energy\":energy, \n",
    "                            \"Instrumentalness\": instrumentalness, \n",
    "                            \"Key\": key, \n",
    "                            \"Liveness\": liveness,\n",
    "                            \"Mode\": mode,\n",
    "                            \"Loudness\":loudness,\n",
    "                            \"Tempo\": tempo,\n",
    "                            \"Time_signature\": time_signature,\n",
    "                            \"Speechiness\": speechiness,\n",
    "                            \"Valence\":valence })\n",
    "\n",
    "# Sort by Popularity score in descending order\n",
    "features_df = features_df.sort_values(by=[\"Popularity\"], ascending=False).reset_index()\n",
    "\n",
    "features_df.head()"
   ]
  },
  {
   "cell_type": "code",
   "execution_count": null,
   "metadata": {},
   "outputs": [],
   "source": [
    "genre_df = pd.DataFrame({\"Artist_id\": artist_id_genre, \"Genre\": genres})\n",
    "genre_df_2 = genre_df.drop_duplicates(subset=[\"Artist_id\"], keep=False).reset_index()\n",
    "\n",
    "new_data = pd.merge(features_df, genre_df_2, left_on = 'Artist_id', right_on = 'Artist_id', how = 'left') \n",
    "new_data = new_data.drop(['index_x', 'index_y'], axis = 1)\n",
    "new_data = new_data.sort_values(by=[\"Popularity\"], ascending=False)\n",
    "\n",
    "features_df.to_csv(\"audio_features_2019.csv\", index=False)"
   ]
  },
  {
   "cell_type": "code",
   "execution_count": null,
   "metadata": {},
   "outputs": [],
   "source": [
    "genre_df = pd.DataFrame({\"Artist_id\": artist_id_genre, \"Genre\": genres})"
   ]
  },
  {
   "cell_type": "code",
   "execution_count": null,
   "metadata": {},
   "outputs": [],
   "source": [
    "\n",
    "genre_df_2"
   ]
  },
  {
   "cell_type": "code",
   "execution_count": null,
   "metadata": {},
   "outputs": [],
   "source": [
    "new_data = pd.merge(features_df, genre_df_2, left_on = 'Artist_id', right_on = 'Artist_id', how = 'left') \n",
    "new_data = new_data.drop(['index_x', 'index_y'], axis = 1)\n",
    "new_data = new_data.sort_values(by=[\"Popularity\"], ascending=False)\n",
    "new_data"
   ]
  },
  {
   "cell_type": "code",
   "execution_count": null,
   "metadata": {},
   "outputs": [],
   "source": [
    "features_df.to_csv(\"/Users/lixinjin/Downloads/SpotifyData/UpdateData/audio_features_2011.csv\", index=False)"
   ]
  },
  {
   "cell_type": "code",
   "execution_count": 5,
   "metadata": {},
   "outputs": [],
   "source": [
    "# df_new = pd.concat([df_2012, df_2013, df_2014, df_2015, df_2016, df_2017, df_2018, df_2019, df_2020, df_2021])\n",
    "# df_new.to_csv(\"/Users/lixinjin/Downloads/SpotifyData/UpdateData/df_new.csv\", index=False)"
   ]
  },
  {
   "cell_type": "code",
   "execution_count": null,
   "metadata": {},
   "outputs": [],
   "source": []
  }
 ],
 "metadata": {
  "kernelspec": {
   "display_name": "Python 3.8.8 ('base')",
   "language": "python",
   "name": "python3"
  },
  "language_info": {
   "codemirror_mode": {
    "name": "ipython",
    "version": 3
   },
   "file_extension": ".py",
   "mimetype": "text/x-python",
   "name": "python",
   "nbconvert_exporter": "python",
   "pygments_lexer": "ipython3",
   "version": "3.8.8"
  },
  "vscode": {
   "interpreter": {
    "hash": "ca42fec0569acb581a7c75c7d60dd4087caf7831f0bf49e483949cf7323f15d3"
   }
  }
 },
 "nbformat": 4,
 "nbformat_minor": 4
}
