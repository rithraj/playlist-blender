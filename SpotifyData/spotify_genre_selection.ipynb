{
 "cells": [
  {
   "cell_type": "code",
   "execution_count": 2,
   "metadata": {},
   "outputs": [],
   "source": [
    "import pandas as pd\n",
    "from matplotlib import pyplot as plt\n",
    "import numpy as np\n",
    "import spotipy\n",
    "from spotipy.oauth2 import SpotifyClientCredentials"
   ]
  },
  {
   "cell_type": "code",
   "execution_count": 3,
   "metadata": {},
   "outputs": [],
   "source": [
    "# Establish connection to Spotify\n",
    "client_id = '3a73b2db715a4f2696964c5bb3024395'\n",
    "secret = '05624d43a8714d6eac168090093d7d09'\n",
    "\n",
    "client_credentials_manager = SpotifyClientCredentials(client_id=client_id, client_secret=secret)\n",
    "sp = spotipy.Spotify(client_credentials_manager=client_credentials_manager, requests_timeout=10, retries=10)"
   ]
  },
  {
   "cell_type": "code",
   "execution_count": 4,
   "metadata": {},
   "outputs": [],
   "source": [
    "# read data from audio_data.csv\n",
    "\n",
    "df = pd.read_csv(\"audio_data.csv\")\n",
    "wanted_genres_set = {\"pop\", \"rap\", \"hip hop\", \"country\", \"rock\", \"alternative metal\", \"trap\", \"edm\", \"r&b\", \"latino pop\"}\n"
   ]
  },
  {
   "cell_type": "code",
   "execution_count": 5,
   "metadata": {},
   "outputs": [],
   "source": [
    "sp.artist(\"5YGY8feqx7naU7z4HrwZM6\")"
   ]
  },
  {
   "cell_type": "code",
   "execution_count": null,
   "metadata": {},
   "outputs": [],
   "source": [
    "artist_id_genre = []   \n",
    "genres = []\n",
    "\n",
    "for ind, row in df.iterrows():\n",
    "    if ind % 100 == 0:\n",
    "        print(ind)\n",
    "    # sp.artist calls Spotify API using spotipy library to find artist\n",
    "    artist_results = sp.artist(row[\"Artist_id\"])[\"genres\"]\n",
    "    \n",
    "    for gn in artist_results:\n",
    "        if gn in wanted_genres_set:\n",
    "            artist_id_genre.append(row[\"Artist_id\"])\n",
    "            genres.append(gn)\n",
    "            break"
   ]
  },
  {
   "cell_type": "code",
   "execution_count": null,
   "metadata": {},
   "outputs": [],
   "source": [
    "genre_df = pd.DataFrame({\"Artist_id\": artist_id_genre, \"Genre\": genres})\n",
    "genre_df.to_csv(\"artist_genres.csv\", index=False)"
   ]
  },
  {
   "cell_type": "code",
   "execution_count": null,
   "metadata": {},
   "outputs": [],
   "source": [
    "new_data = pd.merge(df, genre_df, how = 'left', on = ['Artist_id'], copy=False).drop_duplicates()\n",
    "new_data = new_data[~pd.isna(new_data.Genre)].reset_index(drop=True)\n",
    "new_data.to_csv(\"final_audio_data.csv\", index=False)"
   ]
  },
  {
   "cell_type": "code",
   "execution_count": null,
   "metadata": {},
   "outputs": [
    {
     "data": {
      "text/plain": [
       "Counter()"
      ]
     },
     "execution_count": 15,
     "metadata": {},
     "output_type": "execute_result"
    }
   ],
   "source": [
    "import collections\n",
    "collections.Counter(genres)"
   ]
  }
 ],
 "metadata": {
  "kernelspec": {
   "display_name": "Python 3",
   "language": "python",
   "name": "python3"
  },
  "language_info": {
   "codemirror_mode": {
    "name": "ipython",
    "version": 3
   },
   "file_extension": ".py",
   "mimetype": "text/x-python",
   "name": "python",
   "nbconvert_exporter": "python",
   "pygments_lexer": "ipython3",
   "version": "3.8.8"
  },
  "vscode": {
   "interpreter": {
    "hash": "ca42fec0569acb581a7c75c7d60dd4087caf7831f0bf49e483949cf7323f15d3"
   }
  }
 },
 "nbformat": 4,
 "nbformat_minor": 2
}
